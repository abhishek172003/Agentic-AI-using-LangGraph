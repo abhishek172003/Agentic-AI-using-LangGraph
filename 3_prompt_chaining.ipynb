{
 "cells": [
  {
   "cell_type": "code",
   "execution_count": 4,
   "id": "1329fdae",
   "metadata": {},
   "outputs": [
    {
     "name": "stderr",
     "output_type": "stream",
     "text": [
      "c:\\Users\\Nikhil\\AppData\\Local\\Programs\\Python\\Python311\\Lib\\site-packages\\tqdm\\auto.py:21: TqdmWarning: IProgress not found. Please update jupyter and ipywidgets. See https://ipywidgets.readthedocs.io/en/stable/user_install.html\n",
      "  from .autonotebook import tqdm as notebook_tqdm\n"
     ]
    }
   ],
   "source": [
    "from langgraph.graph import StateGraph, START, END\n",
    "from langchain_google_genai import ChatGoogleGenerativeAI\n",
    "from typing import TypedDict\n",
    "from dotenv import load_dotenv"
   ]
  },
  {
   "cell_type": "code",
   "execution_count": null,
   "id": "397806c4",
   "metadata": {},
   "outputs": [],
   "source": [
    "load_dotenv()\n",
    "\n",
    "model = ChatGoogleGenerativeAI(model=\"gemini-2.5-flash\")"
   ]
  },
  {
   "cell_type": "code",
   "execution_count": 7,
   "id": "75ae1707",
   "metadata": {},
   "outputs": [],
   "source": [
    "class BlogState(TypedDict):\n",
    "\n",
    "    title: str\n",
    "    outline: str\n",
    "    content: str"
   ]
  },
  {
   "cell_type": "code",
   "execution_count": 29,
   "id": "4ef1f024",
   "metadata": {},
   "outputs": [],
   "source": [
    "def create_outline(state: BlogState) -> BlogState:\n",
    "\n",
    "    # fetch title\n",
    "    title = state['title']\n",
    "\n",
    "    # call llm gen outline\n",
    "    prompt = f'Generate a detailed outline for a blog on the topic - {title}'\n",
    "    outline = model.invoke(prompt).content\n",
    "\n",
    "    # update state\n",
    "    state['outline'] = outline\n",
    "\n",
    "    return state"
   ]
  },
  {
   "cell_type": "code",
   "execution_count": 30,
   "id": "7bab2346",
   "metadata": {},
   "outputs": [],
   "source": [
    "def create_blog(state: BlogState) -> BlogState:\n",
    "\n",
    "    title = state['title']\n",
    "    outline = state['outline']\n",
    "\n",
    "    prompt = f'Write a detailed blog on the title - {title} using the follwing outline \\n {outline}'\n",
    "\n",
    "    content = model.invoke(prompt).content\n",
    "\n",
    "    state['content'] = content\n",
    "\n",
    "    return state"
   ]
  },
  {
   "cell_type": "code",
   "execution_count": 40,
   "id": "e28f7486",
   "metadata": {},
   "outputs": [],
   "source": [
    "def evaluate(state: BlogState) -> BlogState:\n",
    "    title = state['title']\n",
    "    outline = state['outline']\n",
    "    content = state['content']\n",
    "\n",
    "    prompt = f'Evaluate the blog on the title - {title} using the follwing outline \\n {outline} and on the content \\n {content} on the rating of 5 star'\n",
    "\n",
    "    evaluation = model.invoke(prompt).content\n",
    "\n",
    "    state['evaluation'] = evaluation\n",
    "\n",
    "    return state"
   ]
  },
  {
   "cell_type": "code",
   "execution_count": 41,
   "id": "d49ba7c9",
   "metadata": {},
   "outputs": [],
   "source": [
    "graph = StateGraph(BlogState)\n",
    "\n",
    "# nodes\n",
    "graph.add_node('create_outline', create_outline)\n",
    "graph.add_node('create_blog', create_blog)\n",
    "graph.add_node('evaluate', evaluate)\n",
    "\n",
    "# edges\n",
    "graph.add_edge(START, 'create_outline')\n",
    "graph.add_edge('create_outline', 'create_blog')\n",
    "graph.add_edge('create_blog', 'evaluate')\n",
    "graph.add_edge('evaluate', END)\n",
    "\n",
    "workflow = graph.compile()\n"
   ]
  },
  {
   "cell_type": "code",
   "execution_count": 45,
   "id": "e724fda0",
   "metadata": {},
   "outputs": [
    {
     "name": "stdout",
     "output_type": "stream",
     "text": [
      "{'title': 'Rise of AI in India', 'outline': 'Here\\'s a detailed outline for a blog post on the \"Rise of AI in India,\" designed to be comprehensive, engaging, and informative.\\n\\n---\\n\\n## Blog Post Outline: The AI Ascent: Unpacking India\\'s Rapid Rise in Artificial Intelligence\\n\\n**Target Audience:** Tech enthusiasts, business professionals, policymakers, students, and anyone interested in India\\'s technological landscape.\\n\\n**Tone:** Informative, optimistic, analytical, and forward-looking, while also acknowledging challenges.\\n\\n**Word Count Aim:** 1500-2000 words (adjustable based on depth per section)\\n\\n---\\n\\n### I. Title Options (Choose one, or adapt)\\n\\n*   **The AI Ascent: Unpacking India\\'s Rapid Rise in Artificial Intelligence** (Primary)\\n*   India\\'s AI Revolution: A Deep Dive into its Rapid Rise and Impact\\n*   From Niche to National Priority: The Unstoppable Rise of AI in India\\n*   Decoding India\\'s AI Boom: Opportunities, Challenges, and the Road Ahead\\n\\n### II. Introduction (Approx. 150-200 words)\\n\\n*   **A. Hook:** Start with a compelling statistic or a thought-provoking statement about AI\\'s global impact and India\\'s unique position. (e.g., \"While AI reshapes industries globally, a silent revolution is unfolding in one of the world\\'s fastest-growing economies: India.\")\\n*   **B. Context:** Briefly define AI and its transformative potential across sectors.\\n*   **C. Thesis Statement:** Assert India\\'s emergence as a significant global AI player, driven by a unique confluence of factors and poised for massive impact.\\n*   **D. Roadmap:** Briefly outline what the blog post will cover (e.g., drivers, key applications, challenges, and future outlook).\\n\\n### III. The Foundation: Why India is Ripe for AI Growth (Approx. 250-300 words)\\n\\n*   **A. Demographic Dividend & Talent Pool:**\\n    *   Large, young, tech-savvy population.\\n    *   Abundance of STEM graduates, engineers, and data scientists.\\n    *   Growing number of AI/ML specialists.\\n*   **B. Data Abundance:**\\n    *   Massive digital adoption (UPI, Aadhaar, Digital India initiatives).\\n    *   Large internet user base generating vast amounts of data.\\n    *   Diversity of data (languages, demographics, behaviors).\\n*   **C. Government Initiatives & Policy Support:**\\n    *   \"AI for All\" vision (NITI Aayog\\'s National Strategy for AI).\\n    *   Focus on responsible AI, ethical guidelines.\\n    *   Funding for research and development (e.g., National AI Portal).\\n    *   Digital India program as a foundational layer.\\n*   **D. Thriving Startup Ecosystem:**\\n    *   Increased venture capital funding in AI startups.\\n    *   Emergence of AI-focused incubators and accelerators.\\n    *   Culture of innovation and problem-solving.\\n*   **E. Cost-Effectiveness:**\\n    *   Lower operational costs compared to Western countries, making India an attractive hub for AI development and outsourcing.\\n\\n### IV. AI in Action: Sectoral Applications and Transformative Impact (Approx. 400-500 words)\\n\\n*   **A. Healthcare:**\\n    *   **Diagnostics:** AI-powered tools for early disease detection (e.g., retina scans for diabetes, radiology analysis).\\n    *   **Drug Discovery:** Accelerating research and development.\\n    *   **Personalized Medicine:** Tailoring treatments based on patient data.\\n    *   **Remote Care:** Telemedicine platforms, AI chatbots for patient queries.\\n*   **B. Agriculture (AgriTech):**\\n    *   **Crop Yield Prediction:** Using satellite imagery and weather data.\\n    *   **Pest & Disease Detection:** AI-powered image recognition.\\n    *   **Smart Irrigation:** Optimizing water usage.\\n    *   **Market Price Prediction:** Helping farmers make informed decisions.\\n*   **C. Finance (FinTech):**\\n    *   **Fraud Detection:** Real-time anomaly detection in transactions.\\n    *   **Personalized Banking:** AI-driven recommendations for financial products.\\n    *   **Credit Scoring:** Assessing creditworthiness for underserved populations.\\n    *   **Algorithmic Trading & Robo-Advisors.**\\n*   **D. Education (EdTech):**\\n    *   **Personalized Learning Paths:** Adaptive content and assessments.\\n    *   **Automated Grading & Feedback.**\\n    *   **Language Learning & Translation:** Bridging linguistic gaps.\\n    *   **Skill Development:** AI-driven platforms for upskilling and reskilling.\\n*   **E. E-commerce & Retail:**\\n    *   **Recommendation Engines:** Personalized product suggestions.\\n    *   **Customer Service:** AI chatbots for 24/7 support.\\n    *   **Supply Chain Optimization:** Predictive logistics, inventory management.\\n    *   **Visual Search:** Image-based product discovery.\\n*   **F. Public Services & Governance:**\\n    *   **Smart Cities:** Traffic management, waste optimization, public safety.\\n    *   **Grievance Redressal:** AI-powered citizen helplines.\\n    *   **Disaster Management:** Predictive analytics for early warnings.\\n    *   **Justice Delivery:** AI in legal research and case management.\\n\\n### V. Challenges and Considerations (Approx. 300-350 words)\\n\\n*   **A. Data Privacy & Security:**\\n    *   Balancing innovation with robust data protection laws.\\n    *   Risk of data breaches and misuse.\\n*   **B. Ethical AI & Bias:**\\n    *   Ensuring fairness, transparency, and accountability in AI algorithms.\\n    *   Addressing potential biases in data leading to discriminatory outcomes.\\n*   **C. Job Displacement & Skilling Gap:**\\n    *   Concerns about automation replacing human jobs.\\n    *   Need for massive reskilling and upskilling programs to prepare the workforce.\\n    *   Focus on creating new job roles that complement AI.\\n*   **D. Infrastructure & Connectivity:**\\n    *   Bridging the digital divide, especially in rural areas.\\n    *   Ensuring reliable high-speed internet and power supply.\\n*   **E. Funding & Investment (Continuous Need):**\\n    *   While growing, sustained investment is crucial for cutting-edge research and product development.\\n*   **F. Regulatory Framework:**\\n    *   Developing clear and agile regulations that foster innovation without stifling it.\\n\\n### VI. The Road Ahead: Future Outlook and Opportunities (Approx. 200-250 words)\\n\\n*   **A. India\\'s Ambition:** Position itself as a global leader in responsible and inclusive AI.\\n*   **B. Focus on \"AI for Good\":** Leveraging AI to solve India\\'s unique social and economic challenges (healthcare access, education, poverty alleviation).\\n*   **C. Continued Policy Support & Investment:** Government\\'s role in creating an enabling environment.\\n*   **D. Emergence of Specialized AI Hubs:** Beyond Bangalore, rise of other cities.\\n*   **E. Global Collaborations:** Increased partnerships with international companies and research institutions.\\n*   **F. From Adoption to Innovation:** Moving beyond just consuming AI to creating groundbreaking AI solutions.\\n\\n### VII. Conclusion (Approx. 100-150 words)\\n\\n*   **A. Recap:** Briefly summarize India\\'s rapid strides in AI, highlighting its unique strengths and diverse applications.\\n*   **B. Reinforce Thesis:** Reiterate that India is not just a participant but a significant force in the global AI landscape.\\n*   **C. Final Thought/Call to Action:** End with an optimistic vision for India\\'s AI-powered future, emphasizing the need for continued collaboration, ethical development, and inclusive growth. Encourage readers to stay informed or engage with the AI ecosystem. (e.g., \"The journey ahead for AI in India is vast and complex, but with its unique blend of talent, data, and a forward-looking vision, India is poised to not just ride the AI wave but to shape its very direction for the betterment of its citizens and the world.\")\\n\\n---\\n\\nThis detailed outline provides a solid framework. Remember to use compelling storytelling, real-world examples (even if hypothetical for the outline), and strong transitions between sections to make the blog post engaging.', 'content': '## The AI Ascent: Unpacking India\\'s Rapid Rise in Artificial Intelligence\\n\\nWhile artificial intelligence reshapes industries globally, driving unprecedented innovation and efficiency, a silent, yet powerful, revolution is unfolding in one of the world\\'s fastest-growing economies: India. For years, India has been recognized as a global IT powerhouse, a hub for software development and outsourcing. Now, it is rapidly transitioning into a formidable player in the AI landscape, poised to not just adopt, but to significantly contribute to and even lead the global discourse on artificial intelligence.\\n\\nArtificial Intelligence, at its core, is about enabling machines to simulate human intelligence, from learning and problem-solving to perception and decision-making. Its transformative potential spans virtually every sector, promising to revolutionize how we live, work, and interact. India\\'s emergence as a significant global AI player is not accidental; it is driven by a unique confluence of demographic advantages, abundant data, proactive government policies, and a vibrant entrepreneurial spirit. This blog post will delve into the foundational strengths propelling India\\'s AI boom, explore its diverse applications across key sectors, acknowledge the crucial challenges it faces, and finally, cast a vision for the road ahead.\\n\\n### The Foundation: Why India is Ripe for AI Growth\\n\\nIndia\\'s rapid ascent in AI is underpinned by several inherent strengths that create a fertile ground for technological innovation and adoption.\\n\\n**A. Demographic Dividend & Talent Pool:** India boasts one of the world\\'s largest and youngest populations, a significant portion of which is tech-savvy. This demographic dividend translates into an unparalleled talent pool. Each year, millions of graduates emerge from engineering colleges and universities, many with strong foundations in STEM subjects. There\\'s a rapidly growing community of AI/ML specialists, data scientists, and researchers, eager to contribute to and shape the future of artificial intelligence. This sheer volume of skilled human capital is a critical advantage.\\n\\n**B. Data Abundance:** The digital transformation sweeping across India has generated an unprecedented wealth of data. Initiatives like UPI (Unified Payments Interface), Aadhaar (the world\\'s largest biometric ID system), and the broader Digital India program have led to massive digital adoption. With over 800 million internet users and a burgeoning e-commerce landscape, the sheer volume, velocity, and variety of data generated daily in India are staggering. This diverse data – spanning multiple languages, demographics, and behaviors – provides an invaluable resource for training robust and contextually relevant AI models.\\n\\n**C. Government Initiatives & Policy Support:** Recognizing AI\\'s strategic importance, the Indian government has articulated a clear vision: \"AI for All.\" NITI Aayog, the government\\'s premier policy think tank, released the \"National Strategy for Artificial Intelligence\" in 2018, outlining a roadmap for responsible and inclusive AI development. This includes a strong focus on ethical guidelines, data governance, and fostering research and development. The establishment of the National AI Portal (India\\'s official AI gateway) and various funding initiatives underscore the government\\'s commitment to creating an enabling ecosystem.\\n\\n**D. Thriving Startup Ecosystem:** India\\'s startup scene is booming, and AI is increasingly becoming its epicenter. Venture capital funding in AI-focused startups has surged, attracting both domestic and international investors. The emergence of numerous AI-centric incubators and accelerators provides crucial support, mentorship, and resources for budding entrepreneurs. This vibrant ecosystem fosters a culture of innovation, rapid prototyping, and a strong drive to solve real-world problems using AI.\\n\\n**E. Cost-Effectiveness:** Compared to Western countries, the operational costs for AI development, research, and deployment in India are significantly lower. This cost-effectiveness, combined with the vast talent pool, makes India an attractive hub for global companies looking to establish AI research centers, develop AI-powered solutions, or outsource AI-related services, further fueling its growth.\\n\\n### AI in Action: Sectoral Applications and Transformative Impact\\n\\nThe impact of AI in India is not confined to a single industry; it is a pervasive force transforming multiple sectors, addressing unique Indian challenges, and creating new opportunities.\\n\\n**A. Healthcare:** AI is revolutionizing healthcare access and quality. AI-powered tools are being used for **diagnostics**, such as analyzing retina scans for early detection of diabetic retinopathy or interpreting radiology images with greater accuracy. In **drug discovery**, AI accelerates research and development by sifting through vast datasets to identify potential compounds. **Personalized medicine** is becoming a reality, with AI tailoring treatments based on individual patient data. Furthermore, **remote care** is expanding through telemedicine platforms and AI chatbots that provide initial patient queries and support, especially crucial in a country with a vast rural population.\\n\\n**B. Agriculture (AgriTech):** Given India\\'s agrarian economy, AI\\'s potential in agriculture is immense. AI leverages satellite imagery, weather data, and soil sensors for **crop yield prediction**, helping farmers optimize their planting strategies. AI-powered image recognition can swiftly identify **pest and disease detection**, allowing for timely interventions. **Smart irrigation** systems use AI to optimize water usage, a critical resource. AI also assists farmers with **market price prediction**, enabling them to make informed decisions about when and where to sell their produce.\\n\\n**C. Finance (FinTech):** The FinTech sector is a major beneficiary of AI. AI enables **fraud detection** through real-time anomaly detection in financial transactions, protecting consumers and institutions. **Personalized banking** is evolving with AI-driven recommendations for financial products tailored to individual needs. AI is also crucial for **credit scoring**, especially for the underserved populations with limited traditional credit histories. Beyond this, algorithmic trading and robo-advisors are becoming increasingly common for investment management.\\n\\n**D. Education (EdTech):** AI is personalizing the learning experience. **Personalized learning paths** are created through adaptive content and assessments that cater to individual student pace and style. AI tools facilitate **automated grading and feedback**, freeing up educators\\' time. **Language learning and translation** tools powered by AI are bridging linguistic gaps, making education more accessible. Moreover, AI-driven platforms are essential for **skill development**, helping to upskill and reskill the workforce for future job roles.\\n\\n**E. E-commerce & Retail:** AI is at the heart of modern retail. **Recommendation engines** provide highly personalized product suggestions, enhancing the shopping experience. AI chatbots offer **customer service** 24/7, resolving queries efficiently. **Supply chain optimization** is achieved through predictive logistics and inventory management, reducing waste and improving delivery times. **Visual search** allows customers to find products by simply uploading an image, revolutionizing product discovery.\\n\\n**F. Public Services & Governance:** AI is being deployed for good governance. In **smart cities**, AI optimizes traffic management, waste collection, and enhances public safety through surveillance. **Grievance redressal** systems are becoming more efficient with AI-powered citizen helplines. **Disaster management** benefits from predictive analytics for early warnings and resource allocation. Even **justice delivery** is seeing AI applications in legal research and case management, potentially speeding up processes.\\n\\n### Challenges and Considerations\\n\\nWhile India\\'s AI journey is marked by significant progress, it is not without its hurdles. Addressing these challenges is crucial for sustainable and equitable growth.\\n\\n**A. Data Privacy & Security:** With vast amounts of data being generated and utilized by AI systems, ensuring robust **data privacy and security** is paramount. India is in the process of developing comprehensive data protection laws, but balancing innovation with stringent privacy measures and preventing data breaches and misuse remains a complex task.\\n\\n**B. Ethical AI & Bias:** The development of AI must be guided by strong **ethical principles**. Ensuring fairness, transparency, and accountability in AI algorithms is critical. There\\'s a significant risk of biases in data leading to discriminatory outcomes, especially in areas like credit scoring or recruitment. Developing ethical guidelines and frameworks to mitigate these biases is an ongoing challenge.\\n\\n**C. Job Displacement & Skilling Gap:** The rise of automation fueled by AI raises concerns about **job displacement**, particularly in repetitive or manual tasks. This necessitates massive **reskilling and upskilling programs** to prepare the existing workforce for new, AI-complementary roles. The focus must shift from fearing job losses to creating new job roles that leverage human capabilities alongside AI.\\n\\n**D. Infrastructure & Connectivity:** While digital adoption is high, bridging the **digital divide**, especially in rural and remote areas, remains a challenge. Ensuring reliable high-speed internet connectivity and consistent power supply across the nation is fundamental for widespread AI adoption and development.\\n\\n**E. Funding & Investment (Continuous Need):** While venture capital funding has increased, sustained and substantial investment is crucial for cutting-edge research, development of proprietary AI models, and scaling up solutions. India needs to continue attracting both domestic and international capital to maintain its competitive edge.\\n\\n**F. Regulatory Framework:** Developing a clear, agile, and future-proof **regulatory framework** for AI is essential. Regulations must foster innovation without stifling it, address emerging ethical concerns, and provide legal clarity for businesses and individuals operating in the AI space.\\n\\n### The Road Ahead: Future Outlook and Opportunities\\n\\nIndia\\'s ambition is clear: to position itself not just as an adopter, but as a global leader in responsible and inclusive AI.\\n\\nThe path forward will see a continued **focus on \"AI for Good,\"** leveraging AI to solve India\\'s unique social and economic challenges, such as improving healthcare access, enhancing educational outcomes, and alleviating poverty. The government\\'s role in providing **continued policy support and investment** will be pivotal in creating an even more enabling environment for research, development, and deployment.\\n\\nWe can anticipate the **emergence of specialized AI hubs** beyond traditional tech cities like Bangalore, with cities like Hyderabad, Pune, and Delhi-NCR increasingly becoming centers for AI innovation. **Global collaborations** will also intensify, with increased partnerships between Indian companies, research institutions, and international counterparts, fostering knowledge exchange and joint development.\\n\\nCrucially, India is moving **from adoption to innovation**. The focus is shifting from merely consuming AI solutions developed elsewhere to creating groundbreaking, indigenous AI solutions tailored to local contexts and global needs. This transition will solidify India\\'s position as a net contributor to the global AI ecosystem.\\n\\n### Conclusion\\n\\nIndia\\'s journey in artificial intelligence is a testament to its unique strengths – a vast talent pool, abundant data, and a proactive policy environment. From revolutionizing healthcare and agriculture to transforming finance and public services, AI is already making profound impacts across diverse sectors. While challenges related to data privacy, ethical considerations, and skill gaps remain, they are being actively addressed through policy and innovation.\\n\\nIndia is not merely riding the global AI wave; it is poised to shape its very direction. With its unwavering commitment to responsible and inclusive AI development, and its inherent capacity for innovation, India is set to become a significant force in the global AI landscape, contributing not just to its own prosperity but to the betterment of humanity. The journey ahead for AI in India is vast and complex, but with its unique blend of talent, data, and a forward-looking vision, India is poised to not just ride the AI wave but to shape its very direction for the betterment of its citizens and the world.'}\n"
     ]
    }
   ],
   "source": [
    "intial_state = {'title': 'Rise of AI in India'}\n",
    "\n",
    "final_state = workflow.invoke(intial_state)\n",
    "\n",
    "print(final_state)"
   ]
  },
  {
   "cell_type": "code",
   "execution_count": 46,
   "id": "bdd8eb97",
   "metadata": {},
   "outputs": [
    {
     "name": "stdout",
     "output_type": "stream",
     "text": [
      "Here's a detailed outline for a blog post on the \"Rise of AI in India,\" designed to be comprehensive, engaging, and informative.\n",
      "\n",
      "---\n",
      "\n",
      "## Blog Post Outline: The AI Ascent: Unpacking India's Rapid Rise in Artificial Intelligence\n",
      "\n",
      "**Target Audience:** Tech enthusiasts, business professionals, policymakers, students, and anyone interested in India's technological landscape.\n",
      "\n",
      "**Tone:** Informative, optimistic, analytical, and forward-looking, while also acknowledging challenges.\n",
      "\n",
      "**Word Count Aim:** 1500-2000 words (adjustable based on depth per section)\n",
      "\n",
      "---\n",
      "\n",
      "### I. Title Options (Choose one, or adapt)\n",
      "\n",
      "*   **The AI Ascent: Unpacking India's Rapid Rise in Artificial Intelligence** (Primary)\n",
      "*   India's AI Revolution: A Deep Dive into its Rapid Rise and Impact\n",
      "*   From Niche to National Priority: The Unstoppable Rise of AI in India\n",
      "*   Decoding India's AI Boom: Opportunities, Challenges, and the Road Ahead\n",
      "\n",
      "### II. Introduction (Approx. 150-200 words)\n",
      "\n",
      "*   **A. Hook:** Start with a compelling statistic or a thought-provoking statement about AI's global impact and India's unique position. (e.g., \"While AI reshapes industries globally, a silent revolution is unfolding in one of the world's fastest-growing economies: India.\")\n",
      "*   **B. Context:** Briefly define AI and its transformative potential across sectors.\n",
      "*   **C. Thesis Statement:** Assert India's emergence as a significant global AI player, driven by a unique confluence of factors and poised for massive impact.\n",
      "*   **D. Roadmap:** Briefly outline what the blog post will cover (e.g., drivers, key applications, challenges, and future outlook).\n",
      "\n",
      "### III. The Foundation: Why India is Ripe for AI Growth (Approx. 250-300 words)\n",
      "\n",
      "*   **A. Demographic Dividend & Talent Pool:**\n",
      "    *   Large, young, tech-savvy population.\n",
      "    *   Abundance of STEM graduates, engineers, and data scientists.\n",
      "    *   Growing number of AI/ML specialists.\n",
      "*   **B. Data Abundance:**\n",
      "    *   Massive digital adoption (UPI, Aadhaar, Digital India initiatives).\n",
      "    *   Large internet user base generating vast amounts of data.\n",
      "    *   Diversity of data (languages, demographics, behaviors).\n",
      "*   **C. Government Initiatives & Policy Support:**\n",
      "    *   \"AI for All\" vision (NITI Aayog's National Strategy for AI).\n",
      "    *   Focus on responsible AI, ethical guidelines.\n",
      "    *   Funding for research and development (e.g., National AI Portal).\n",
      "    *   Digital India program as a foundational layer.\n",
      "*   **D. Thriving Startup Ecosystem:**\n",
      "    *   Increased venture capital funding in AI startups.\n",
      "    *   Emergence of AI-focused incubators and accelerators.\n",
      "    *   Culture of innovation and problem-solving.\n",
      "*   **E. Cost-Effectiveness:**\n",
      "    *   Lower operational costs compared to Western countries, making India an attractive hub for AI development and outsourcing.\n",
      "\n",
      "### IV. AI in Action: Sectoral Applications and Transformative Impact (Approx. 400-500 words)\n",
      "\n",
      "*   **A. Healthcare:**\n",
      "    *   **Diagnostics:** AI-powered tools for early disease detection (e.g., retina scans for diabetes, radiology analysis).\n",
      "    *   **Drug Discovery:** Accelerating research and development.\n",
      "    *   **Personalized Medicine:** Tailoring treatments based on patient data.\n",
      "    *   **Remote Care:** Telemedicine platforms, AI chatbots for patient queries.\n",
      "*   **B. Agriculture (AgriTech):**\n",
      "    *   **Crop Yield Prediction:** Using satellite imagery and weather data.\n",
      "    *   **Pest & Disease Detection:** AI-powered image recognition.\n",
      "    *   **Smart Irrigation:** Optimizing water usage.\n",
      "    *   **Market Price Prediction:** Helping farmers make informed decisions.\n",
      "*   **C. Finance (FinTech):**\n",
      "    *   **Fraud Detection:** Real-time anomaly detection in transactions.\n",
      "    *   **Personalized Banking:** AI-driven recommendations for financial products.\n",
      "    *   **Credit Scoring:** Assessing creditworthiness for underserved populations.\n",
      "    *   **Algorithmic Trading & Robo-Advisors.**\n",
      "*   **D. Education (EdTech):**\n",
      "    *   **Personalized Learning Paths:** Adaptive content and assessments.\n",
      "    *   **Automated Grading & Feedback.**\n",
      "    *   **Language Learning & Translation:** Bridging linguistic gaps.\n",
      "    *   **Skill Development:** AI-driven platforms for upskilling and reskilling.\n",
      "*   **E. E-commerce & Retail:**\n",
      "    *   **Recommendation Engines:** Personalized product suggestions.\n",
      "    *   **Customer Service:** AI chatbots for 24/7 support.\n",
      "    *   **Supply Chain Optimization:** Predictive logistics, inventory management.\n",
      "    *   **Visual Search:** Image-based product discovery.\n",
      "*   **F. Public Services & Governance:**\n",
      "    *   **Smart Cities:** Traffic management, waste optimization, public safety.\n",
      "    *   **Grievance Redressal:** AI-powered citizen helplines.\n",
      "    *   **Disaster Management:** Predictive analytics for early warnings.\n",
      "    *   **Justice Delivery:** AI in legal research and case management.\n",
      "\n",
      "### V. Challenges and Considerations (Approx. 300-350 words)\n",
      "\n",
      "*   **A. Data Privacy & Security:**\n",
      "    *   Balancing innovation with robust data protection laws.\n",
      "    *   Risk of data breaches and misuse.\n",
      "*   **B. Ethical AI & Bias:**\n",
      "    *   Ensuring fairness, transparency, and accountability in AI algorithms.\n",
      "    *   Addressing potential biases in data leading to discriminatory outcomes.\n",
      "*   **C. Job Displacement & Skilling Gap:**\n",
      "    *   Concerns about automation replacing human jobs.\n",
      "    *   Need for massive reskilling and upskilling programs to prepare the workforce.\n",
      "    *   Focus on creating new job roles that complement AI.\n",
      "*   **D. Infrastructure & Connectivity:**\n",
      "    *   Bridging the digital divide, especially in rural areas.\n",
      "    *   Ensuring reliable high-speed internet and power supply.\n",
      "*   **E. Funding & Investment (Continuous Need):**\n",
      "    *   While growing, sustained investment is crucial for cutting-edge research and product development.\n",
      "*   **F. Regulatory Framework:**\n",
      "    *   Developing clear and agile regulations that foster innovation without stifling it.\n",
      "\n",
      "### VI. The Road Ahead: Future Outlook and Opportunities (Approx. 200-250 words)\n",
      "\n",
      "*   **A. India's Ambition:** Position itself as a global leader in responsible and inclusive AI.\n",
      "*   **B. Focus on \"AI for Good\":** Leveraging AI to solve India's unique social and economic challenges (healthcare access, education, poverty alleviation).\n",
      "*   **C. Continued Policy Support & Investment:** Government's role in creating an enabling environment.\n",
      "*   **D. Emergence of Specialized AI Hubs:** Beyond Bangalore, rise of other cities.\n",
      "*   **E. Global Collaborations:** Increased partnerships with international companies and research institutions.\n",
      "*   **F. From Adoption to Innovation:** Moving beyond just consuming AI to creating groundbreaking AI solutions.\n",
      "\n",
      "### VII. Conclusion (Approx. 100-150 words)\n",
      "\n",
      "*   **A. Recap:** Briefly summarize India's rapid strides in AI, highlighting its unique strengths and diverse applications.\n",
      "*   **B. Reinforce Thesis:** Reiterate that India is not just a participant but a significant force in the global AI landscape.\n",
      "*   **C. Final Thought/Call to Action:** End with an optimistic vision for India's AI-powered future, emphasizing the need for continued collaboration, ethical development, and inclusive growth. Encourage readers to stay informed or engage with the AI ecosystem. (e.g., \"The journey ahead for AI in India is vast and complex, but with its unique blend of talent, data, and a forward-looking vision, India is poised to not just ride the AI wave but to shape its very direction for the betterment of its citizens and the world.\")\n",
      "\n",
      "---\n",
      "\n",
      "This detailed outline provides a solid framework. Remember to use compelling storytelling, real-world examples (even if hypothetical for the outline), and strong transitions between sections to make the blog post engaging.\n"
     ]
    }
   ],
   "source": [
    "print(final_state['outline'])"
   ]
  },
  {
   "cell_type": "code",
   "execution_count": 47,
   "id": "e38569eb",
   "metadata": {},
   "outputs": [
    {
     "name": "stdout",
     "output_type": "stream",
     "text": [
      "## The AI Ascent: Unpacking India's Rapid Rise in Artificial Intelligence\n",
      "\n",
      "While artificial intelligence reshapes industries globally, driving unprecedented innovation and efficiency, a silent, yet powerful, revolution is unfolding in one of the world's fastest-growing economies: India. For years, India has been recognized as a global IT powerhouse, a hub for software development and outsourcing. Now, it is rapidly transitioning into a formidable player in the AI landscape, poised to not just adopt, but to significantly contribute to and even lead the global discourse on artificial intelligence.\n",
      "\n",
      "Artificial Intelligence, at its core, is about enabling machines to simulate human intelligence, from learning and problem-solving to perception and decision-making. Its transformative potential spans virtually every sector, promising to revolutionize how we live, work, and interact. India's emergence as a significant global AI player is not accidental; it is driven by a unique confluence of demographic advantages, abundant data, proactive government policies, and a vibrant entrepreneurial spirit. This blog post will delve into the foundational strengths propelling India's AI boom, explore its diverse applications across key sectors, acknowledge the crucial challenges it faces, and finally, cast a vision for the road ahead.\n",
      "\n",
      "### The Foundation: Why India is Ripe for AI Growth\n",
      "\n",
      "India's rapid ascent in AI is underpinned by several inherent strengths that create a fertile ground for technological innovation and adoption.\n",
      "\n",
      "**A. Demographic Dividend & Talent Pool:** India boasts one of the world's largest and youngest populations, a significant portion of which is tech-savvy. This demographic dividend translates into an unparalleled talent pool. Each year, millions of graduates emerge from engineering colleges and universities, many with strong foundations in STEM subjects. There's a rapidly growing community of AI/ML specialists, data scientists, and researchers, eager to contribute to and shape the future of artificial intelligence. This sheer volume of skilled human capital is a critical advantage.\n",
      "\n",
      "**B. Data Abundance:** The digital transformation sweeping across India has generated an unprecedented wealth of data. Initiatives like UPI (Unified Payments Interface), Aadhaar (the world's largest biometric ID system), and the broader Digital India program have led to massive digital adoption. With over 800 million internet users and a burgeoning e-commerce landscape, the sheer volume, velocity, and variety of data generated daily in India are staggering. This diverse data – spanning multiple languages, demographics, and behaviors – provides an invaluable resource for training robust and contextually relevant AI models.\n",
      "\n",
      "**C. Government Initiatives & Policy Support:** Recognizing AI's strategic importance, the Indian government has articulated a clear vision: \"AI for All.\" NITI Aayog, the government's premier policy think tank, released the \"National Strategy for Artificial Intelligence\" in 2018, outlining a roadmap for responsible and inclusive AI development. This includes a strong focus on ethical guidelines, data governance, and fostering research and development. The establishment of the National AI Portal (India's official AI gateway) and various funding initiatives underscore the government's commitment to creating an enabling ecosystem.\n",
      "\n",
      "**D. Thriving Startup Ecosystem:** India's startup scene is booming, and AI is increasingly becoming its epicenter. Venture capital funding in AI-focused startups has surged, attracting both domestic and international investors. The emergence of numerous AI-centric incubators and accelerators provides crucial support, mentorship, and resources for budding entrepreneurs. This vibrant ecosystem fosters a culture of innovation, rapid prototyping, and a strong drive to solve real-world problems using AI.\n",
      "\n",
      "**E. Cost-Effectiveness:** Compared to Western countries, the operational costs for AI development, research, and deployment in India are significantly lower. This cost-effectiveness, combined with the vast talent pool, makes India an attractive hub for global companies looking to establish AI research centers, develop AI-powered solutions, or outsource AI-related services, further fueling its growth.\n",
      "\n",
      "### AI in Action: Sectoral Applications and Transformative Impact\n",
      "\n",
      "The impact of AI in India is not confined to a single industry; it is a pervasive force transforming multiple sectors, addressing unique Indian challenges, and creating new opportunities.\n",
      "\n",
      "**A. Healthcare:** AI is revolutionizing healthcare access and quality. AI-powered tools are being used for **diagnostics**, such as analyzing retina scans for early detection of diabetic retinopathy or interpreting radiology images with greater accuracy. In **drug discovery**, AI accelerates research and development by sifting through vast datasets to identify potential compounds. **Personalized medicine** is becoming a reality, with AI tailoring treatments based on individual patient data. Furthermore, **remote care** is expanding through telemedicine platforms and AI chatbots that provide initial patient queries and support, especially crucial in a country with a vast rural population.\n",
      "\n",
      "**B. Agriculture (AgriTech):** Given India's agrarian economy, AI's potential in agriculture is immense. AI leverages satellite imagery, weather data, and soil sensors for **crop yield prediction**, helping farmers optimize their planting strategies. AI-powered image recognition can swiftly identify **pest and disease detection**, allowing for timely interventions. **Smart irrigation** systems use AI to optimize water usage, a critical resource. AI also assists farmers with **market price prediction**, enabling them to make informed decisions about when and where to sell their produce.\n",
      "\n",
      "**C. Finance (FinTech):** The FinTech sector is a major beneficiary of AI. AI enables **fraud detection** through real-time anomaly detection in financial transactions, protecting consumers and institutions. **Personalized banking** is evolving with AI-driven recommendations for financial products tailored to individual needs. AI is also crucial for **credit scoring**, especially for the underserved populations with limited traditional credit histories. Beyond this, algorithmic trading and robo-advisors are becoming increasingly common for investment management.\n",
      "\n",
      "**D. Education (EdTech):** AI is personalizing the learning experience. **Personalized learning paths** are created through adaptive content and assessments that cater to individual student pace and style. AI tools facilitate **automated grading and feedback**, freeing up educators' time. **Language learning and translation** tools powered by AI are bridging linguistic gaps, making education more accessible. Moreover, AI-driven platforms are essential for **skill development**, helping to upskill and reskill the workforce for future job roles.\n",
      "\n",
      "**E. E-commerce & Retail:** AI is at the heart of modern retail. **Recommendation engines** provide highly personalized product suggestions, enhancing the shopping experience. AI chatbots offer **customer service** 24/7, resolving queries efficiently. **Supply chain optimization** is achieved through predictive logistics and inventory management, reducing waste and improving delivery times. **Visual search** allows customers to find products by simply uploading an image, revolutionizing product discovery.\n",
      "\n",
      "**F. Public Services & Governance:** AI is being deployed for good governance. In **smart cities**, AI optimizes traffic management, waste collection, and enhances public safety through surveillance. **Grievance redressal** systems are becoming more efficient with AI-powered citizen helplines. **Disaster management** benefits from predictive analytics for early warnings and resource allocation. Even **justice delivery** is seeing AI applications in legal research and case management, potentially speeding up processes.\n",
      "\n",
      "### Challenges and Considerations\n",
      "\n",
      "While India's AI journey is marked by significant progress, it is not without its hurdles. Addressing these challenges is crucial for sustainable and equitable growth.\n",
      "\n",
      "**A. Data Privacy & Security:** With vast amounts of data being generated and utilized by AI systems, ensuring robust **data privacy and security** is paramount. India is in the process of developing comprehensive data protection laws, but balancing innovation with stringent privacy measures and preventing data breaches and misuse remains a complex task.\n",
      "\n",
      "**B. Ethical AI & Bias:** The development of AI must be guided by strong **ethical principles**. Ensuring fairness, transparency, and accountability in AI algorithms is critical. There's a significant risk of biases in data leading to discriminatory outcomes, especially in areas like credit scoring or recruitment. Developing ethical guidelines and frameworks to mitigate these biases is an ongoing challenge.\n",
      "\n",
      "**C. Job Displacement & Skilling Gap:** The rise of automation fueled by AI raises concerns about **job displacement**, particularly in repetitive or manual tasks. This necessitates massive **reskilling and upskilling programs** to prepare the existing workforce for new, AI-complementary roles. The focus must shift from fearing job losses to creating new job roles that leverage human capabilities alongside AI.\n",
      "\n",
      "**D. Infrastructure & Connectivity:** While digital adoption is high, bridging the **digital divide**, especially in rural and remote areas, remains a challenge. Ensuring reliable high-speed internet connectivity and consistent power supply across the nation is fundamental for widespread AI adoption and development.\n",
      "\n",
      "**E. Funding & Investment (Continuous Need):** While venture capital funding has increased, sustained and substantial investment is crucial for cutting-edge research, development of proprietary AI models, and scaling up solutions. India needs to continue attracting both domestic and international capital to maintain its competitive edge.\n",
      "\n",
      "**F. Regulatory Framework:** Developing a clear, agile, and future-proof **regulatory framework** for AI is essential. Regulations must foster innovation without stifling it, address emerging ethical concerns, and provide legal clarity for businesses and individuals operating in the AI space.\n",
      "\n",
      "### The Road Ahead: Future Outlook and Opportunities\n",
      "\n",
      "India's ambition is clear: to position itself not just as an adopter, but as a global leader in responsible and inclusive AI.\n",
      "\n",
      "The path forward will see a continued **focus on \"AI for Good,\"** leveraging AI to solve India's unique social and economic challenges, such as improving healthcare access, enhancing educational outcomes, and alleviating poverty. The government's role in providing **continued policy support and investment** will be pivotal in creating an even more enabling environment for research, development, and deployment.\n",
      "\n",
      "We can anticipate the **emergence of specialized AI hubs** beyond traditional tech cities like Bangalore, with cities like Hyderabad, Pune, and Delhi-NCR increasingly becoming centers for AI innovation. **Global collaborations** will also intensify, with increased partnerships between Indian companies, research institutions, and international counterparts, fostering knowledge exchange and joint development.\n",
      "\n",
      "Crucially, India is moving **from adoption to innovation**. The focus is shifting from merely consuming AI solutions developed elsewhere to creating groundbreaking, indigenous AI solutions tailored to local contexts and global needs. This transition will solidify India's position as a net contributor to the global AI ecosystem.\n",
      "\n",
      "### Conclusion\n",
      "\n",
      "India's journey in artificial intelligence is a testament to its unique strengths – a vast talent pool, abundant data, and a proactive policy environment. From revolutionizing healthcare and agriculture to transforming finance and public services, AI is already making profound impacts across diverse sectors. While challenges related to data privacy, ethical considerations, and skill gaps remain, they are being actively addressed through policy and innovation.\n",
      "\n",
      "India is not merely riding the global AI wave; it is poised to shape its very direction. With its unwavering commitment to responsible and inclusive AI development, and its inherent capacity for innovation, India is set to become a significant force in the global AI landscape, contributing not just to its own prosperity but to the betterment of humanity. The journey ahead for AI in India is vast and complex, but with its unique blend of talent, data, and a forward-looking vision, India is poised to not just ride the AI wave but to shape its very direction for the betterment of its citizens and the world.\n"
     ]
    }
   ],
   "source": [
    "print(final_state['content'])"
   ]
  },
  {
   "cell_type": "code",
   "execution_count": 49,
   "id": "f7e34ee5",
   "metadata": {},
   "outputs": [
    {
     "ename": "KeyError",
     "evalue": "'evaluation'",
     "output_type": "error",
     "traceback": [
      "\u001b[31m---------------------------------------------------------------------------\u001b[39m",
      "\u001b[31mKeyError\u001b[39m                                  Traceback (most recent call last)",
      "\u001b[36mCell\u001b[39m\u001b[36m \u001b[39m\u001b[32mIn[49]\u001b[39m\u001b[32m, line 1\u001b[39m\n\u001b[32m----> \u001b[39m\u001b[32m1\u001b[39m \u001b[38;5;28mprint\u001b[39m(\u001b[43mfinal_state\u001b[49m\u001b[43m[\u001b[49m\u001b[33;43m'\u001b[39;49m\u001b[33;43mevaluation\u001b[39;49m\u001b[33;43m'\u001b[39;49m\u001b[43m]\u001b[49m)\n",
      "\u001b[31mKeyError\u001b[39m: 'evaluation'"
     ]
    }
   ],
   "source": [
    "print(final_state['evaluation'])"
   ]
  },
  {
   "cell_type": "code",
   "execution_count": null,
   "id": "ca21b153",
   "metadata": {},
   "outputs": [],
   "source": []
  }
 ],
 "metadata": {
  "kernelspec": {
   "display_name": "Python 3",
   "language": "python",
   "name": "python3"
  },
  "language_info": {
   "codemirror_mode": {
    "name": "ipython",
    "version": 3
   },
   "file_extension": ".py",
   "mimetype": "text/x-python",
   "name": "python",
   "nbconvert_exporter": "python",
   "pygments_lexer": "ipython3",
   "version": "3.11.0"
  }
 },
 "nbformat": 4,
 "nbformat_minor": 5
}
